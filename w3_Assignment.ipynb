{
  "cells": [
    {
      "cell_type": "markdown",
      "metadata": {
        "id": "iQjHqsmTAVLU"
      },
      "source": [
        "# Week 3: Improve MNIST with Convolutions"
      ]
    },
    {
      "cell_type": "code",
      "execution_count": 1,
      "metadata": {
        "id": "ZpztRwBouwYp",
        "tags": [
          "graded"
        ]
      },
      "outputs": [],
      "source": [
        "import os\n",
        "import numpy as np\n",
        "import tensorflow as tf\n",
        "from tensorflow import keras"
      ]
    },
    {
      "cell_type": "markdown",
      "metadata": {
        "id": "po-lj1ZHtcRM"
      },
      "source": [
        "## Load the data"
      ]
    },
    {
      "cell_type": "code",
      "execution_count": null,
      "metadata": {
        "tags": [
          "graded"
        ],
        "id": "WjTTmkMktcRN"
      },
      "outputs": [],
      "source": [
        "# Load the data\n",
        "\n",
        "# Get current working directory\n",
        "current_dir = os.getcwd() \n",
        "\n",
        "# Append data/mnist.npz to the previous path to get the full path\n",
        "data_path = os.path.join(current_dir, \"data/mnist.npz\") \n",
        "\n",
        "# Get only training set\n",
        "(training_images, training_labels), _ = tf.keras.datasets.mnist.load_data(path=data_path) "
      ]
    },
    {
      "cell_type": "markdown",
      "metadata": {
        "id": "n-nnej35tcRN"
      },
      "source": [
        "## Pre-processing the data\n",
        "\n",
        "One important step when dealing with image data is to preprocess the data. During the preprocess step you can apply transformations to the dataset that will be fed into your convolutional neural network."
      ]
    },
    {
      "cell_type": "code",
      "execution_count": null,
      "metadata": {
        "tags": [
          "graded"
        ],
        "id": "zISOZ8SNtcRO"
      },
      "outputs": [],
      "source": [
        "def reshape_and_normalize(images):\n",
        "    \n",
        "    # Reshape the images to add an extra dimension\n",
        "    images = training_images.reshape(60000, 28, 28, 1)\n",
        "    \n",
        "    # Normalize pixel values\n",
        "    images = images / 255.0\n",
        "    \n",
        "    return images"
      ]
    },
    {
      "cell_type": "markdown",
      "metadata": {
        "id": "ffcSylw6tcRP"
      },
      "source": [
        "Test your function with the next cell:"
      ]
    },
    {
      "cell_type": "code",
      "execution_count": null,
      "metadata": {
        "tags": [
          "graded"
        ],
        "id": "lxnnOMsxtcRQ",
        "outputId": "708947b9-0971-4830-db9c-7d7e616ad823"
      },
      "outputs": [
        {
          "name": "stdout",
          "output_type": "stream",
          "text": [
            "Maximum pixel value after normalization: 1.0\n",
            "\n",
            "Shape of training set after reshaping: (60000, 28, 28)\n",
            "\n",
            "Shape of one image after reshaping: (28, 28)\n"
          ]
        }
      ],
      "source": [
        "# Reload the images in case you run this cell multiple times\n",
        "(training_images, _), _ = tf.keras.datasets.mnist.load_data(path=data_path) \n",
        "\n",
        "# Apply function\n",
        "training_images = reshape_and_normalize(training_images)\n",
        "\n",
        "print(f\"Maximum pixel value after normalization: {np.max(training_images)}\\n\")\n",
        "print(f\"Shape of training set after reshaping: {training_images.shape}\\n\")\n",
        "print(f\"Shape of one image after reshaping: {training_images[0].shape}\")\n"
      ]
    },
    {
      "cell_type": "markdown",
      "metadata": {
        "id": "486vt9wetcRR"
      },
      "source": [
        "**Expected Output:**\n",
        "```\n",
        "Maximum pixel value after normalization: 1.0\n",
        "\n",
        "Shape of training set after reshaping: (60000, 28, 28, 1)\n",
        "\n",
        "Shape of one image after reshaping: (28, 28, 1)\n",
        "```"
      ]
    },
    {
      "cell_type": "markdown",
      "metadata": {
        "id": "tiHat-5NtcRR"
      },
      "source": [
        "## Defining your callback\n",
        "\n",
        "Now complete the callback that will ensure that training will stop after an accuracy of 99.5% is reached:"
      ]
    },
    {
      "cell_type": "code",
      "execution_count": null,
      "metadata": {
        "tags": [
          "graded"
        ],
        "id": "3bxamDuRtcRS"
      },
      "outputs": [],
      "source": [
        "# Remember to inherit from the correct class\n",
        "class myCallback(keras.callbacks.Callback):\n",
        "  def on_epoch_end(self, epoch, logs={}):\n",
        "    if logs.get('accuracy') > 0.995:\n",
        "      print('\\nend epoch training!:')\n",
        "      self.model.stop_training = True"
      ]
    },
    {
      "cell_type": "markdown",
      "metadata": {
        "id": "wyhM1fCYtcRS"
      },
      "source": [
        "## Convolutional Model\n",
        "\n",
        "Finally, complete the `convolutional_model` function below. This function should return your convolutional neural network.\n",
        "\n",
        "**Your model should achieve an accuracy of 99.5% or more before 10 epochs to pass this assignment.**"
      ]
    },
    {
      "cell_type": "code",
      "execution_count": null,
      "metadata": {
        "tags": [
          "graded"
        ],
        "id": "9lSsNaEXtcRS"
      },
      "outputs": [],
      "source": [
        "# convolutional_model\n",
        "def convolutional_model():\n",
        "\n",
        "    # Define the model\n",
        "    model = tf.keras.models.Sequential([\n",
        "            keras.layers.Conv2D(32, (3, 3), activation=tf.nn.relu, input_shape=(28, 28, 1)),\n",
        "                                        keras.layers.MaxPool2D(2, 2),\n",
        "                                        keras.layers.Flatten(),\n",
        "                                        keras.layers.Dense(256, activation=tf.nn.relu),\n",
        "                                        keras.layers.Dense(10, activation=tf.nn.softmax)\n",
        "    ]) \n",
        "\n",
        "    # Compile the model\n",
        "    model.compile(optimizer='adam', \n",
        "                  loss='sparse_categorical_crossentropy', \n",
        "                  metrics=['accuracy']) \n",
        "        \n",
        "    return model"
      ]
    },
    {
      "cell_type": "code",
      "execution_count": null,
      "metadata": {
        "tags": [
          "graded"
        ],
        "id": "HzxudyQstcRT",
        "outputId": "4a7c9e8b-baff-42de-91ad-ecec87ce05cc"
      },
      "outputs": [
        {
          "name": "stdout",
          "output_type": "stream",
          "text": [
            "Epoch 1/10\n",
            "1875/1875 [==============================] - 50s 26ms/step - loss: 0.1325 - accuracy: 0.9603\n",
            "Epoch 2/10\n",
            "1875/1875 [==============================] - 50s 26ms/step - loss: 0.0447 - accuracy: 0.9864\n",
            "Epoch 3/10\n",
            "1875/1875 [==============================] - 49s 26ms/step - loss: 0.0254 - accuracy: 0.9920\n",
            "Epoch 4/10\n",
            "1875/1875 [==============================] - 49s 26ms/step - loss: 0.0165 - accuracy: 0.9946\n",
            "Epoch 5/10\n",
            "1873/1875 [============================>.] - ETA: 0s - loss: 0.0119 - accuracy: 0.9960\n",
            "end epoch training!:\n",
            "1875/1875 [==============================] - 49s 26ms/step - loss: 0.0119 - accuracy: 0.9961\n"
          ]
        }
      ],
      "source": [
        "# Save your untrained model\n",
        "model = convolutional_model()\n",
        "\n",
        "# Instantiate the callback class\n",
        "callbacks = myCallback()\n",
        "\n",
        "# Train your model (this can take up to 5 minutes)\n",
        "history = model.fit(training_images, training_labels, epochs=10, callbacks=[callbacks])"
      ]
    },
    {
      "cell_type": "markdown",
      "metadata": {
        "id": "AEPz-MNktcRT"
      },
      "source": [
        "If you see the message that you defined in your callback printed out after less than 10 epochs it means your callback worked as expected. You can also double check by running the following cell:"
      ]
    },
    {
      "cell_type": "markdown",
      "metadata": {
        "id": "U2EWrIPCtcRU"
      },
      "source": [
        "**Congratulations on finishing this week's assignment!**\n",
        "\n",
        "You have successfully implemented a CNN to assist you in the image classification task. Nice job!\n",
        "\n",
        "**Keep it up!**"
      ]
    }
  ],
  "metadata": {
    "jupytext": {
      "main_language": "python"
    },
    "kernelspec": {
      "display_name": "Python 3",
      "language": "python",
      "name": "python3"
    },
    "language_info": {
      "codemirror_mode": {
        "name": "ipython",
        "version": 3
      },
      "file_extension": ".py",
      "mimetype": "text/x-python",
      "name": "python",
      "nbconvert_exporter": "python",
      "pygments_lexer": "ipython3",
      "version": "3.8.8"
    },
    "colab": {
      "name": "w3_Assignment.ipynb",
      "provenance": [],
      "toc_visible": true
    }
  },
  "nbformat": 4,
  "nbformat_minor": 0
}